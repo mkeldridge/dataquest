{
 "cells": [
  {
   "cell_type": "code",
   "execution_count": 1,
   "metadata": {
    "collapsed": false
   },
   "outputs": [
    {
     "name": "stdout",
     "output_type": "stream",
     "text": [
      "      lean  year\n",
      "0   2.9642  1975\n",
      "1   2.9644  1976\n",
      "2   2.9656  1977\n",
      "3   2.9667  1978\n",
      "4   2.9673  1979\n",
      "5   2.9688  1980\n",
      "6   2.9696  1981\n",
      "7   2.9698  1982\n",
      "8   2.9713  1983\n",
      "9   2.9717  1984\n",
      "10  2.9725  1985\n",
      "11  2.9742  1986\n",
      "12  2.9757  1987\n"
     ]
    }
   ],
   "source": [
    "import pandas\n",
    "import matplotlib.pyplot as plt\n",
    "\n",
    "pisa = pandas.DataFrame({\"year\": range(1975, 1988), \n",
    "                         \"lean\": [2.9642, 2.9644, 2.9656, 2.9667, 2.9673, 2.9688, 2.9696, \n",
    "                                  2.9698, 2.9713, 2.9717, 2.9725, 2.9742, 2.9757]})\n",
    "\n",
    "print(pisa)"
   ]
  },
  {
   "cell_type": "code",
   "execution_count": 3,
   "metadata": {
    "collapsed": false
   },
   "outputs": [
    {
     "data": {
      "image/png": "[encoded data removed]",
      "text/plain": [
       "<matplotlib.figure.Figure at 0x7f687b6e0b38>"
      ]
     },
     "metadata": {},
     "output_type": "display_data"
    }
   ],
   "source": [
    "plt.scatter(pisa[\"year\"], pisa[\"lean\"])\n",
    "plt.show()"
   ]
  },
  {
   "cell_type": "code",
   "execution_count": 4,
   "metadata": {
    "collapsed": true
   },
   "outputs": [],
   "source": [
    "import statsmodels.api as sm\n",
    "\n",
    "y = pisa.lean # target\n",
    "X = pisa.year  # features\n",
    "X = sm.add_constant(X)  # add a column of 1's as the constant term\n",
    "\n",
    "# OLS -- Ordinary Least Squares Fit\n",
    "linear = sm.OLS(y, X)\n",
    "\n",
    "# fit model\n",
    "linearfit = linear.fit()"
   ]
  },
  {
   "cell_type": "code",
   "execution_count": 5,
   "metadata": {
    "collapsed": false
   },
   "outputs": [
    {
     "name": "stderr",
     "output_type": "stream",
     "text": [
      "/home/mark/anaconda3/lib/python3.5/site-packages/scipy/stats/stats.py:1327: UserWarning: kurtosistest only valid for n>=20 ... continuing anyway, n=13\n",
      "  \"anyway, n=%i\" % int(n))\n"
     ]
    },
    {
     "data": {
      "text/html": [
       "<table class=\"simpletable\">\n",
       "<caption>OLS Regression Results</caption>\n",
       "<tr>\n",
       "  <th>Dep. Variable:</th>          <td>lean</td>       <th>  R-squared:         </th> <td>   0.988</td>\n",
       "</tr>\n",
       "<tr>\n",
       "  <th>Model:</th>                   <td>OLS</td>       <th>  Adj. R-squared:    </th> <td>   0.987</td>\n",
       "</tr>\n",
       "<tr>\n",
       "  <th>Method:</th>             <td>Least Squares</td>  <th>  F-statistic:       </th> <td>   904.1</td>\n",
       "</tr>\n",
       "<tr>\n",
       "  <th>Date:</th>             <td>Sun, 12 Feb 2017</td> <th>  Prob (F-statistic):</th> <td>6.50e-12</td>\n",
       "</tr>\n",
       "<tr>\n",
       "  <th>Time:</th>                 <td>18:52:42</td>     <th>  Log-Likelihood:    </th> <td>  83.777</td>\n",
       "</tr>\n",
       "<tr>\n",
       "  <th>No. Observations:</th>      <td>    13</td>      <th>  AIC:               </th> <td>  -163.6</td>\n",
       "</tr>\n",
       "<tr>\n",
       "  <th>Df Residuals:</th>          <td>    11</td>      <th>  BIC:               </th> <td>  -162.4</td>\n",
       "</tr>\n",
       "<tr>\n",
       "  <th>Df Model:</th>              <td>     1</td>      <th>                     </th>     <td> </td>   \n",
       "</tr>\n",
       "<tr>\n",
       "  <th>Covariance Type:</th>      <td>nonrobust</td>    <th>                     </th>     <td> </td>   \n",
       "</tr>\n",
       "</table>\n",
       "<table class=\"simpletable\">\n",
       "<tr>\n",
       "    <td></td>       <th>coef</th>     <th>std err</th>      <th>t</th>      <th>P>|t|</th> <th>[95.0% Conf. Int.]</th> \n",
       "</tr>\n",
       "<tr>\n",
       "  <th>const</th> <td>    1.1233</td> <td>    0.061</td> <td>   18.297</td> <td> 0.000</td> <td>    0.988     1.258</td>\n",
       "</tr>\n",
       "<tr>\n",
       "  <th>year</th>  <td>    0.0009</td> <td>  3.1e-05</td> <td>   30.069</td> <td> 0.000</td> <td>    0.001     0.001</td>\n",
       "</tr>\n",
       "</table>\n",
       "<table class=\"simpletable\">\n",
       "<tr>\n",
       "  <th>Omnibus:</th>       <td> 0.310</td> <th>  Durbin-Watson:     </th> <td>   1.642</td>\n",
       "</tr>\n",
       "<tr>\n",
       "  <th>Prob(Omnibus):</th> <td> 0.856</td> <th>  Jarque-Bera (JB):  </th> <td>   0.450</td>\n",
       "</tr>\n",
       "<tr>\n",
       "  <th>Skew:</th>          <td> 0.094</td> <th>  Prob(JB):          </th> <td>   0.799</td>\n",
       "</tr>\n",
       "<tr>\n",
       "  <th>Kurtosis:</th>      <td> 2.108</td> <th>  Cond. No.          </th> <td>1.05e+06</td>\n",
       "</tr>\n",
       "</table>"
      ],
      "text/plain": [
       "<class 'statsmodels.iolib.summary.Summary'>\n",
       "\"\"\"\n",
       "                            OLS Regression Results                            \n",
       "==============================================================================\n",
       "Dep. Variable:                   lean   R-squared:                       0.988\n",
       "Model:                            OLS   Adj. R-squared:                  0.987\n",
       "Method:                 Least Squares   F-statistic:                     904.1\n",
       "Date:                Sun, 12 Feb 2017   Prob (F-statistic):           6.50e-12\n",
       "Time:                        18:52:42   Log-Likelihood:                 83.777\n",
       "No. Observations:                  13   AIC:                            -163.6\n",
       "Df Residuals:                      11   BIC:                            -162.4\n",
       "Df Model:                           1                                         \n",
       "Covariance Type:            nonrobust                                         \n",
       "==============================================================================\n",
       "                 coef    std err          t      P>|t|      [95.0% Conf. Int.]\n",
       "------------------------------------------------------------------------------\n",
       "const          1.1233      0.061     18.297      0.000         0.988     1.258\n",
       "year           0.0009    3.1e-05     30.069      0.000         0.001     0.001\n",
       "==============================================================================\n",
       "Omnibus:                        0.310   Durbin-Watson:                   1.642\n",
       "Prob(Omnibus):                  0.856   Jarque-Bera (JB):                0.450\n",
       "Skew:                           0.094   Prob(JB):                        0.799\n",
       "Kurtosis:                       2.108   Cond. No.                     1.05e+06\n",
       "==============================================================================\n",
       "\n",
       "Warnings:\n",
       "[1] Standard Errors assume that the covariance matrix of the errors is correctly specified.\n",
       "[2] The condition number is large, 1.05e+06. This might indicate that there are\n",
       "strong multicollinearity or other numerical problems.\n",
       "\"\"\""
      ]
     },
     "execution_count": 5,
     "metadata": {},
     "output_type": "execute_result"
    }
   ],
   "source": [
    "linearfit.summary()"
   ]
  },
  {
   "cell_type": "code",
   "execution_count": 7,
   "metadata": {
    "collapsed": false
   },
   "outputs": [
    {
     "name": "stdout",
     "output_type": "stream",
     "text": [
      "[ 2.96377802  2.96470989  2.96564176  2.96657363  2.96750549  2.96843736\n",
      "  2.96936923  2.9703011   2.97123297  2.97216484  2.9730967   2.97402857\n",
      "  2.97496044]\n"
     ]
    }
   ],
   "source": [
    "# Our predicted values of y\n",
    "yhat = linearfit.predict(X)\n",
    "print(yhat)\n",
    "\n",
    "residuals = y - yhat"
   ]
  },
  {
   "cell_type": "code",
   "execution_count": 9,
   "metadata": {
    "collapsed": false
   },
   "outputs": [
    {
     "data": {
      "image/png": "[encoded data removed]",
      "text/plain": [
       "<matplotlib.figure.Figure at 0x7f686f647a90>"
      ]
     },
     "metadata": {},
     "output_type": "display_data"
    }
   ],
   "source": [
    "plt.hist(residuals, bins=5)\n",
    "plt.show()"
   ]
  },
  {
   "cell_type": "code",
   "execution_count": 10,
   "metadata": {
    "collapsed": true
   },
   "outputs": [],
   "source": [
    "import numpy as np\n",
    "\n",
    "# sum the (predicted - observed) squared\n",
    "SSE = np.sum((y.values-yhat)**2)\n",
    "\n",
    "RSS = np.sum((np.mean(y.values)-yhat)**2)\n",
    "\n",
    "TSS = np.sum((y.values-np.mean(y.values))**2)"
   ]
  },
  {
   "cell_type": "code",
   "execution_count": 11,
   "metadata": {
    "collapsed": true
   },
   "outputs": [],
   "source": [
    "R2 = 1 - (SSE/TSS)"
   ]
  },
  {
   "cell_type": "code",
   "execution_count": 12,
   "metadata": {
    "collapsed": true
   },
   "outputs": [],
   "source": [
    "delta = linearfit.params[\"year\"] * 15"
   ]
  },
  {
   "cell_type": "code",
   "execution_count": 14,
   "metadata": {
    "collapsed": false
   },
   "outputs": [],
   "source": [
    "# Compute variance in X\n",
    "xvar = np.sum((pisa.year - pisa.year.mean())**2)\n",
    "\n",
    "# Compute variance in b1 \n",
    "s2b1 = SSE / ((y.shape[0] - 2) * xvar)"
   ]
  },
  {
   "cell_type": "code",
   "execution_count": 15,
   "metadata": {
    "collapsed": false
   },
   "outputs": [
    {
     "data": {
      "image/png": "[encoded data removed]",
      "text/plain": [
       "<matplotlib.figure.Figure at 0x7f6871368588>"
      ]
     },
     "metadata": {},
     "output_type": "display_data"
    }
   ],
   "source": [
    "from scipy.stats import t\n",
    "\n",
    "# 100 values between -3 and 3\n",
    "x = np.linspace(-3,3,100)\n",
    "\n",
    "# Compute the pdf with 3 degrees of freedom\n",
    "tdist3 = t.pdf(x=x, df=3)\n",
    "tdist30 = t.pdf(x=x, df=30)\n",
    "plt.plot(tdist3, tdist30)\n",
    "plt.show()"
   ]
  },
  {
   "cell_type": "code",
   "execution_count": 16,
   "metadata": {
    "collapsed": true
   },
   "outputs": [],
   "source": [
    "# The variable s2b1 is in memory.  The variance of beta_1\n",
    "tstat = linearfit.params[\"year\"] / np.sqrt(s2b1)"
   ]
  },
  {
   "cell_type": "code",
   "execution_count": 17,
   "metadata": {
    "collapsed": true
   },
   "outputs": [],
   "source": [
    "# At the 95% confidence interval for a two-sided t-test we must use a p-value of 0.975\n",
    "pval = 0.975\n",
    "\n",
    "# The degrees of freedom\n",
    "df = pisa.shape[0] - 2\n",
    "\n",
    "# The probability to test against\n",
    "p = t.cdf(tstat, df=df)\n",
    "beta1_test = True"
   ]
  },
  {
   "cell_type": "code",
   "execution_count": null,
   "metadata": {
    "collapsed": true
   },
   "outputs": [],
   "source": []
  }
 ],
 "metadata": {
  "kernelspec": {
   "display_name": "Python [conda root]",
   "language": "python",
   "name": "conda-root-py"
  },
  "language_info": {
   "codemirror_mode": {
    "name": "ipython",
    "version": 3
   },
   "file_extension": ".py",
   "mimetype": "text/x-python",
   "name": "python",
   "nbconvert_exporter": "python",
   "pygments_lexer": "ipython3",
   "version": "3.5.2"
  }
 },
 "nbformat": 4,
 "nbformat_minor": 1
}
