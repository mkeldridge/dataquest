{
 "cells": [
  {
   "cell_type": "code",
   "execution_count": 54,
   "metadata": {
    "collapsed": false
   },
   "outputs": [
    {
     "name": "stderr",
     "output_type": "stream",
     "text": [
      "/home/mark/anaconda3/lib/python3.5/site-packages/IPython/core/interactiveshell.py:2717: DtypeWarning: Columns (0,47) have mixed types. Specify dtype option on import or set low_memory=False.\n",
      "  interactivity=interactivity, compiler=compiler, result=result)\n"
     ]
    }
   ],
   "source": [
    "import pandas as pd\n",
    "loans_2007 = pd.read_csv('LoanStats3a.csv', skiprows=1)\n",
    "half_count = len(loans_2007) / 2\n",
    "\n",
    "# Remove columns containing more than 50% null values\n",
    "loans_2007 = loans_2007.dropna(thresh=half_count, axis=1)\n",
    "\n",
    "# Remove text explanations and links for the loans\n",
    "loans_2007 = loans_2007.drop(['desc', 'url'],axis=1)"
   ]
  },
  {
   "cell_type": "code",
   "execution_count": 55,
   "metadata": {
    "collapsed": false
   },
   "outputs": [
    {
     "name": "stdout",
     "output_type": "stream",
     "text": [
      "id                                1077501\n",
      "member_id                      1.2966e+06\n",
      "loan_amnt                            5000\n",
      "funded_amnt                          5000\n",
      "funded_amnt_inv                      4975\n",
      "term                            36 months\n",
      "int_rate                           10.65%\n",
      "installment                        162.87\n",
      "grade                                   B\n",
      "sub_grade                              B2\n",
      "emp_title                             NaN\n",
      "emp_length                      10+ years\n",
      "home_ownership                       RENT\n",
      "annual_inc                          24000\n",
      "verification_status              Verified\n",
      "issue_d                          Dec-2011\n",
      "loan_status                    Fully Paid\n",
      "pymnt_plan                              n\n",
      "purpose                       credit_card\n",
      "title                            Computer\n",
      "zip_code                            860xx\n",
      "addr_state                             AZ\n",
      "dti                                 27.65\n",
      "delinq_2yrs                             0\n",
      "earliest_cr_line                 Jan-1985\n",
      "inq_last_6mths                          1\n",
      "open_acc                                3\n",
      "pub_rec                                 0\n",
      "revol_bal                           13648\n",
      "revol_util                          83.7%\n",
      "total_acc                               9\n",
      "initial_list_status                     f\n",
      "out_prncp                               0\n",
      "out_prncp_inv                           0\n",
      "total_pymnt                       5863.16\n",
      "total_pymnt_inv                   5833.84\n",
      "total_rec_prncp                      5000\n",
      "total_rec_int                      863.16\n",
      "total_rec_late_fee                      0\n",
      "recoveries                              0\n",
      "collection_recovery_fee                 0\n",
      "last_pymnt_d                     Jan-2015\n",
      "last_pymnt_amnt                    171.62\n",
      "last_credit_pull_d               Feb-2017\n",
      "collections_12_mths_ex_med              0\n",
      "policy_code                             1\n",
      "application_type               INDIVIDUAL\n",
      "acc_now_delinq                          0\n",
      "chargeoff_within_12_mths                0\n",
      "delinq_amnt                             0\n",
      "pub_rec_bankruptcies                    0\n",
      "tax_liens                               0\n",
      "Name: 0, dtype: object\n",
      "52\n"
     ]
    }
   ],
   "source": [
    "print(loans_2007.iloc[0])\n",
    "print(loans_2007.shape[1])"
   ]
  },
  {
   "cell_type": "markdown",
   "metadata": {},
   "source": [
    "First, we want to identify features which exhibit the following:\n",
    "\n",
    "* leak information from the future (after the loan has already been funded)\n",
    "* don't affect a borrower's ability to pay back a loan (e.g. a randomly generated ID value by Lending Club)\n",
    "* formatted poorly and need to be cleaned up\n",
    "* require more data or a lot of processing to turn into a useful feature\n",
    "* contain redundant information\n"
   ]
  },
  {
   "cell_type": "markdown",
   "metadata": {},
   "source": [
    "Columns that need to be removed\n",
    "* `id` : randomly generated field by Lending Club for unique identification purposes only\n",
    "* `member_id` : also a randomly generated field by Lending Club for unique identification purposes only\n",
    "* `funded_amnt`: leaks data from the future (after the loan is already started to be funded)\n",
    "* `funded_amnt_inv` : also leaks data from the future (after the loan is already started to be funded)\n",
    "* `grade` : contains redundant information as the interest rate column (int_rate)\n",
    "* `sub_grade` : also contains redundant information as the interest rate column (int_rate)\n",
    "* `emp_title` : requires other data and a lot of processing to potentially be useful\n",
    "* `issue_d` : leaks data from the future (after the loan is already completed funded)\n"
   ]
  },
  {
   "cell_type": "code",
   "execution_count": 56,
   "metadata": {
    "collapsed": false
   },
   "outputs": [
    {
     "name": "stdout",
     "output_type": "stream",
     "text": [
      "loan_amnt                            5000\n",
      "term                            36 months\n",
      "int_rate                           10.65%\n",
      "installment                        162.87\n",
      "emp_length                      10+ years\n",
      "home_ownership                       RENT\n",
      "annual_inc                          24000\n",
      "verification_status              Verified\n",
      "loan_status                    Fully Paid\n",
      "pymnt_plan                              n\n",
      "purpose                       credit_card\n",
      "title                            Computer\n",
      "zip_code                            860xx\n",
      "addr_state                             AZ\n",
      "dti                                 27.65\n",
      "delinq_2yrs                             0\n",
      "earliest_cr_line                 Jan-1985\n",
      "inq_last_6mths                          1\n",
      "open_acc                                3\n",
      "pub_rec                                 0\n",
      "revol_bal                           13648\n",
      "revol_util                          83.7%\n",
      "total_acc                               9\n",
      "initial_list_status                     f\n",
      "out_prncp                               0\n",
      "out_prncp_inv                           0\n",
      "total_pymnt                       5863.16\n",
      "total_pymnt_inv                   5833.84\n",
      "total_rec_prncp                      5000\n",
      "total_rec_int                      863.16\n",
      "total_rec_late_fee                      0\n",
      "recoveries                              0\n",
      "collection_recovery_fee                 0\n",
      "last_pymnt_d                     Jan-2015\n",
      "last_pymnt_amnt                    171.62\n",
      "last_credit_pull_d               Feb-2017\n",
      "collections_12_mths_ex_med              0\n",
      "policy_code                             1\n",
      "application_type               INDIVIDUAL\n",
      "acc_now_delinq                          0\n",
      "chargeoff_within_12_mths                0\n",
      "delinq_amnt                             0\n",
      "pub_rec_bankruptcies                    0\n",
      "tax_liens                               0\n",
      "Name: 0, dtype: object\n"
     ]
    }
   ],
   "source": [
    "loans_2007.drop(['id', 'member_id', 'funded_amnt', 'funded_amnt_inv', 'grade', 'sub_grade', 'emp_title', 'issue_d'], axis=1, inplace=True)\n",
    "print(loans_2007.iloc[0])"
   ]
  },
  {
   "cell_type": "markdown",
   "metadata": {},
   "source": [
    "Also need to be removed:\n",
    "\n",
    "* `zip_code` : redundant with the addr_state column since only the first 3 digits of the 5 digit zip code are visible (which only can be used to identify the state the borrower lives in)\n",
    "* `out_prncp` : leaks data from the future, (after the loan already started to be paid off)\n",
    "* `out_prncp_inv` : also leaks data from the future, (after the loan already started to be paid off)\n",
    "* `total_pymnt` : also leaks data from the future, (after the loan already started to be paid off)\n",
    "* `total_pymnt_inv` : also leaks data from the future, (after the loan already started to be paid off)\n",
    "* `total_rec_prncp` : also leaks data from the future, (after the loan already started to be paid off)"
   ]
  },
  {
   "cell_type": "code",
   "execution_count": 57,
   "metadata": {
    "collapsed": false
   },
   "outputs": [
    {
     "name": "stdout",
     "output_type": "stream",
     "text": [
      "loan_amnt                            5000\n",
      "term                            36 months\n",
      "int_rate                           10.65%\n",
      "installment                        162.87\n",
      "emp_length                      10+ years\n",
      "home_ownership                       RENT\n",
      "annual_inc                          24000\n",
      "verification_status              Verified\n",
      "loan_status                    Fully Paid\n",
      "pymnt_plan                              n\n",
      "purpose                       credit_card\n",
      "title                            Computer\n",
      "addr_state                             AZ\n",
      "dti                                 27.65\n",
      "delinq_2yrs                             0\n",
      "earliest_cr_line                 Jan-1985\n",
      "inq_last_6mths                          1\n",
      "open_acc                                3\n",
      "pub_rec                                 0\n",
      "revol_bal                           13648\n",
      "revol_util                          83.7%\n",
      "total_acc                               9\n",
      "initial_list_status                     f\n",
      "total_rec_int                      863.16\n",
      "total_rec_late_fee                      0\n",
      "recoveries                              0\n",
      "collection_recovery_fee                 0\n",
      "last_pymnt_d                     Jan-2015\n",
      "last_pymnt_amnt                    171.62\n",
      "last_credit_pull_d               Feb-2017\n",
      "collections_12_mths_ex_med              0\n",
      "policy_code                             1\n",
      "application_type               INDIVIDUAL\n",
      "acc_now_delinq                          0\n",
      "chargeoff_within_12_mths                0\n",
      "delinq_amnt                             0\n",
      "pub_rec_bankruptcies                    0\n",
      "tax_liens                               0\n",
      "Name: 0, dtype: object\n"
     ]
    }
   ],
   "source": [
    "loans_2007.drop(['zip_code', 'out_prncp', 'out_prncp_inv', 'total_pymnt', 'total_pymnt_inv', 'total_rec_prncp'], axis=1, inplace=True)\n",
    "print(loans_2007.iloc[0])"
   ]
  },
  {
   "cell_type": "markdown",
   "metadata": {},
   "source": [
    "Also need to be removed:\n",
    "\n",
    "* `total_rec_int` : leaks data from the future, (after the loan already started to be paid off),\n",
    "* `total_rec_late_fee` : also leaks data from the future, (after the loan already started to be paid off),\n",
    "* `recoveries` : also leaks data from the future, (after the loan already started to be paid off),\n",
    "* `collection_recovery_fee` : also leaks data from the future, (after the loan already started to be paid off),\n",
    "* `last_pymnt_d` : also leaks data from the future, (after the loan already started to be paid off),\n",
    "* `last_pymnt_amnt`: also leaks data from the future, (after the loan already started to be paid off).\n"
   ]
  },
  {
   "cell_type": "code",
   "execution_count": 58,
   "metadata": {
    "collapsed": false
   },
   "outputs": [
    {
     "name": "stdout",
     "output_type": "stream",
     "text": [
      "loan_amnt                            5000\n",
      "term                            36 months\n",
      "int_rate                           10.65%\n",
      "installment                        162.87\n",
      "emp_length                      10+ years\n",
      "home_ownership                       RENT\n",
      "annual_inc                          24000\n",
      "verification_status              Verified\n",
      "loan_status                    Fully Paid\n",
      "pymnt_plan                              n\n",
      "purpose                       credit_card\n",
      "title                            Computer\n",
      "addr_state                             AZ\n",
      "dti                                 27.65\n",
      "delinq_2yrs                             0\n",
      "earliest_cr_line                 Jan-1985\n",
      "inq_last_6mths                          1\n",
      "open_acc                                3\n",
      "pub_rec                                 0\n",
      "revol_bal                           13648\n",
      "revol_util                          83.7%\n",
      "total_acc                               9\n",
      "initial_list_status                     f\n",
      "last_credit_pull_d               Feb-2017\n",
      "collections_12_mths_ex_med              0\n",
      "policy_code                             1\n",
      "application_type               INDIVIDUAL\n",
      "acc_now_delinq                          0\n",
      "chargeoff_within_12_mths                0\n",
      "delinq_amnt                             0\n",
      "pub_rec_bankruptcies                    0\n",
      "tax_liens                               0\n",
      "Name: 0, dtype: object\n"
     ]
    }
   ],
   "source": [
    "loans_2007.drop(['total_rec_int', 'total_rec_late_fee', 'recoveries', 'collection_recovery_fee', 'last_pymnt_d', 'last_pymnt_amnt'], axis=1, inplace=True)\n",
    "print(loans_2007.iloc[0])"
   ]
  },
  {
   "cell_type": "code",
   "execution_count": 59,
   "metadata": {
    "collapsed": false
   },
   "outputs": [
    {
     "name": "stdout",
     "output_type": "stream",
     "text": [
      "Fully Paid                                             34115\n",
      "Charged Off                                             5668\n",
      "Does not meet the credit policy. Status:Fully Paid      1988\n",
      "Does not meet the credit policy. Status:Charged Off      761\n",
      "Late (31-120 days)                                         3\n",
      "Name: loan_status, dtype: int64\n"
     ]
    }
   ],
   "source": [
    "print(loans_2007.loan_status.value_counts())"
   ]
  },
  {
   "cell_type": "markdown",
   "metadata": {},
   "source": [
    "## Clean target column"
   ]
  },
  {
   "cell_type": "code",
   "execution_count": 60,
   "metadata": {
    "collapsed": false
   },
   "outputs": [
    {
     "name": "stdout",
     "output_type": "stream",
     "text": [
      "(42538,)\n",
      "(42538,)\n",
      "Fully Paid     34115\n",
      "Charged Off     5668\n",
      "Name: loan_status, dtype: int64\n",
      "1    34115\n",
      "0     5668\n",
      "Name: loan_status, dtype: int64\n"
     ]
    }
   ],
   "source": [
    "fully_paid = loans_2007.loan_status == \"Fully Paid\"\n",
    "charged_off = loans_2007.loan_status == \"Charged Off\"\n",
    "print(fully_paid.shape)\n",
    "print(charged_off.shape)\n",
    "both = fully_paid | charged_off\n",
    "loans_2007 = loans_2007[both]\n",
    "print(loans_2007.loan_status.value_counts())\n",
    "\n",
    "mapping_dict = {\n",
    "    'loan_status': {\n",
    "        'Fully Paid' : 1,\n",
    "        'Charged Off' : 0\n",
    "    }\n",
    "}\n",
    "\n",
    "loans_2007 = loans_2007.replace(mapping_dict)\n",
    "print(loans_2007.loan_status.value_counts())"
   ]
  },
  {
   "cell_type": "markdown",
   "metadata": {},
   "source": [
    "## Drop columns with only one unique value"
   ]
  },
  {
   "cell_type": "code",
   "execution_count": 61,
   "metadata": {
    "collapsed": false
   },
   "outputs": [
    {
     "name": "stdout",
     "output_type": "stream",
     "text": [
      "['pymnt_plan', 'initial_list_status', 'collections_12_mths_ex_med', 'policy_code', 'application_type', 'acc_now_delinq', 'chargeoff_within_12_mths', 'delinq_amnt', 'tax_liens']\n"
     ]
    }
   ],
   "source": [
    "drop_columns = []\n",
    "for c in loans_2007.columns:\n",
    "    loans_2007[c].dropna(inplace=True)\n",
    "    if len(loans_2007[c].unique()) == 1:\n",
    "        drop_columns.append(c)\n",
    "\n",
    "loans_2007.drop(drop_columns, axis=1, inplace=True)\n",
    "print(drop_columns)"
   ]
  },
  {
   "cell_type": "code",
   "execution_count": 62,
   "metadata": {
    "collapsed": false
   },
   "outputs": [
    {
     "name": "stdout",
     "output_type": "stream",
     "text": [
      "loan_amnt                 0\n",
      "term                      0\n",
      "int_rate                  0\n",
      "installment               0\n",
      "emp_length                0\n",
      "home_ownership            0\n",
      "annual_inc                0\n",
      "verification_status       0\n",
      "loan_status               0\n",
      "purpose                   0\n",
      "title                    10\n",
      "addr_state                0\n",
      "dti                       0\n",
      "delinq_2yrs               0\n",
      "earliest_cr_line          0\n",
      "inq_last_6mths            0\n",
      "open_acc                  0\n",
      "pub_rec                   0\n",
      "revol_bal                 0\n",
      "revol_util               50\n",
      "total_acc                 0\n",
      "last_credit_pull_d        2\n",
      "pub_rec_bankruptcies    697\n",
      "dtype: int64\n"
     ]
    }
   ],
   "source": [
    "null_counts = loans_2007.isnull().sum()\n",
    "print(null_counts)"
   ]
  },
  {
   "cell_type": "markdown",
   "metadata": {},
   "source": [
    "### Drop column containing more than 1% null values and rows containing null values"
   ]
  },
  {
   "cell_type": "code",
   "execution_count": 63,
   "metadata": {
    "collapsed": false
   },
   "outputs": [
    {
     "name": "stdout",
     "output_type": "stream",
     "text": [
      "object     11\n",
      "float64    10\n",
      "int64       1\n",
      "dtype: int64\n"
     ]
    }
   ],
   "source": [
    "loans_2007.drop('pub_rec_bankruptcies', axis=1, inplace=True)\n",
    "loans_2007.dropna(inplace=True)\n",
    "\n",
    "print(loans_2007.dtypes.value_counts())"
   ]
  },
  {
   "cell_type": "code",
   "execution_count": 64,
   "metadata": {
    "collapsed": false
   },
   "outputs": [
    {
     "name": "stdout",
     "output_type": "stream",
     "text": [
      "term                     36 months\n",
      "int_rate                    10.65%\n",
      "emp_length               10+ years\n",
      "home_ownership                RENT\n",
      "verification_status       Verified\n",
      "purpose                credit_card\n",
      "title                     Computer\n",
      "addr_state                      AZ\n",
      "earliest_cr_line          Jan-1985\n",
      "revol_util                   83.7%\n",
      "last_credit_pull_d        Feb-2017\n",
      "Name: 0, dtype: object\n"
     ]
    }
   ],
   "source": [
    "object_columns_df = loans_2007.select_dtypes(include=['object'])\n",
    "print(object_columns_df.iloc[0])"
   ]
  },
  {
   "cell_type": "markdown",
   "metadata": {},
   "source": [
    "### Evaluate features which may be discrete sets"
   ]
  },
  {
   "cell_type": "code",
   "execution_count": 65,
   "metadata": {
    "collapsed": false
   },
   "outputs": [
    {
     "name": "stdout",
     "output_type": "stream",
     "text": [
      "home_ownership : \n",
      "RENT        18880\n",
      "MORTGAGE    17687\n",
      "OWN          3055\n",
      "OTHER          96\n",
      "NONE            3\n",
      "Name: home_ownership, dtype: int64\n",
      "\n",
      "\n",
      "verification_status : \n",
      "Not Verified       16890\n",
      "Verified           12832\n",
      "Source Verified     9999\n",
      "Name: verification_status, dtype: int64\n",
      "\n",
      "\n",
      "emp_length : \n",
      "10+ years    8896\n",
      "< 1 year     4576\n",
      "2 years      4389\n",
      "3 years      4093\n",
      "4 years      3435\n",
      "5 years      3279\n",
      "1 year       3240\n",
      "6 years      2227\n",
      "7 years      1771\n",
      "8 years      1482\n",
      "9 years      1259\n",
      "n/a          1074\n",
      "Name: emp_length, dtype: int64\n",
      "\n",
      "\n",
      "term : \n",
      " 36 months    29041\n",
      " 60 months    10680\n",
      "Name: term, dtype: int64\n",
      "\n",
      "\n",
      "addr_state : \n",
      "CA    7095\n",
      "NY    3815\n",
      "FL    2868\n",
      "TX    2728\n",
      "NJ    1850\n",
      "IL    1524\n",
      "PA    1515\n",
      "VA    1407\n",
      "GA    1399\n",
      "MA    1343\n",
      "OH    1221\n",
      "MD    1053\n",
      "AZ     878\n",
      "WA     841\n",
      "CO     791\n",
      "NC     788\n",
      "CT     754\n",
      "MI     722\n",
      "MO     685\n",
      "MN     613\n",
      "NV     497\n",
      "SC     472\n",
      "WI     459\n",
      "AL     450\n",
      "OR     450\n",
      "LA     436\n",
      "KY     327\n",
      "OK     299\n",
      "KS     271\n",
      "UT     259\n",
      "AR     245\n",
      "DC     212\n",
      "RI     199\n",
      "NM     190\n",
      "WV     177\n",
      "HI     173\n",
      "NH     172\n",
      "DE     113\n",
      "MT      85\n",
      "WY      83\n",
      "AK      81\n",
      "SD      63\n",
      "VT      54\n",
      "MS      19\n",
      "TN      17\n",
      "IN       9\n",
      "ID       6\n",
      "IA       5\n",
      "NE       5\n",
      "ME       3\n",
      "Name: addr_state, dtype: int64\n",
      "\n",
      "\n"
     ]
    }
   ],
   "source": [
    "cols = ['home_ownership', 'verification_status', 'emp_length', 'term', 'addr_state']\n",
    "\n",
    "for c in cols:\n",
    "    print(c, \": \")\n",
    "    print(loans_2007[c].value_counts())\n",
    "    print(\"\\n\")"
   ]
  },
  {
   "cell_type": "code",
   "execution_count": 66,
   "metadata": {
    "collapsed": false
   },
   "outputs": [
    {
     "name": "stdout",
     "output_type": "stream",
     "text": [
      "debt_consolidation    18659\n",
      "credit_card            5134\n",
      "other                  3984\n",
      "home_improvement       2980\n",
      "major_purchase         2182\n",
      "small_business         1827\n",
      "car                    1549\n",
      "wedding                 947\n",
      "medical                 693\n",
      "moving                  581\n",
      "house                   382\n",
      "vacation                380\n",
      "educational             320\n",
      "renewable_energy        103\n",
      "Name: purpose, dtype: int64\n",
      "Debt Consolidation                                   2188\n",
      "Debt Consolidation Loan                              1731\n",
      "Personal Loan                                         661\n",
      "Consolidation                                         516\n",
      "debt consolidation                                    508\n",
      "Credit Card Consolidation                             357\n",
      "Home Improvement                                      357\n",
      "Debt consolidation                                    334\n",
      "Small Business Loan                                   329\n",
      "Credit Card Loan                                      319\n",
      "Personal                                              309\n",
      "Consolidation Loan                                    256\n",
      "Home Improvement Loan                                 249\n",
      "personal loan                                         234\n",
      "personal                                              220\n",
      "Loan                                                  213\n",
      "Wedding Loan                                          209\n",
      "consolidation                                         205\n",
      "Car Loan                                              204\n",
      "Other Loan                                            192\n",
      "Credit Card Payoff                                    155\n",
      "Wedding                                               154\n",
      "Major Purchase Loan                                   145\n",
      "Credit Card Refinance                                 144\n",
      "Consolidate                                           127\n",
      "Medical                                               122\n",
      "Credit Card                                           119\n",
      "home improvement                                      112\n",
      "My Loan                                                94\n",
      "Credit Cards                                           93\n",
      "                                                     ... \n",
      "Refinancing ridiculous CC rates                         1\n",
      "PURCHASING ESTABLISHED PAWN SHOP                        1\n",
      "My Advance Loan                                         1\n",
      "Jennifer Loan                                           1\n",
      "Credit Card Payoff for Mom                              1\n",
      "Eliminating Credit Card Debt                            1\n",
      "Medical school relocation                               1\n",
      "My Family Emergency Loan                                1\n",
      "Firebolt                                                1\n",
      "Installment                                             1\n",
      "Rajesh Desai                                            1\n",
      "081810 Personal Loan $14k                               1\n",
      "car fixer                                               1\n",
      "Pay off College debt                                    1\n",
      "Small Business equipment                                1\n",
      "CBR2 Payoff                                             1\n",
      "Fixing car                                              1\n",
      "GSITF:Capitlistic-Socially conscise $$$                 1\n",
      "CC Freedom                                              1\n",
      "Primary Loan Payoff                                     1\n",
      "Senior Helpers Opperating Capital                       1\n",
      "Kalamazoo Konsolidation                                 1\n",
      "Help me, help you! Credit Card Refinance                1\n",
      "Wagon                                                   1\n",
      "helping patrick                                         1\n",
      "High Rate Bank Loan                                     1\n",
      "platinum                                                1\n",
      "Excellent Credit! -- Just a few home improvements       1\n",
      "Kristie10                                               1\n",
      "Loved one is sick                                       1\n",
      "Name: title, dtype: int64\n"
     ]
    }
   ],
   "source": [
    "print(loans_2007.purpose.value_counts())\n",
    "print(loans_2007.title.value_counts())"
   ]
  },
  {
   "cell_type": "code",
   "execution_count": 67,
   "metadata": {
    "collapsed": false
   },
   "outputs": [],
   "source": [
    "loans_2007.drop(['last_credit_pull_d', 'addr_state', 'title', 'earliest_cr_line'], axis=1, inplace=True) "
   ]
  },
  {
   "cell_type": "code",
   "execution_count": 68,
   "metadata": {
    "collapsed": false
   },
   "outputs": [],
   "source": [
    "mapping_dict = {\n",
    "    \"emp_length\": {\n",
    "        \"10+ years\": 10,\n",
    "        \"9 years\": 9,\n",
    "        \"8 years\": 8,\n",
    "        \"7 years\": 7,\n",
    "        \"6 years\": 6,\n",
    "        \"5 years\": 5,\n",
    "        \"4 years\": 4,\n",
    "        \"3 years\": 3,\n",
    "        \"2 years\": 2,\n",
    "        \"1 year\": 1,\n",
    "        \"< 1 year\": 0,\n",
    "        \"n/a\": 0\n",
    "    }\n",
    "}\n",
    "\n",
    "loans_2007.int_rate = loans_2007['int_rate'].str.rstrip('%').astype(float)\n",
    "loans_2007.revol_util = loans_2007.revol_util.str.rstrip('%').astype(float)\n",
    "loans_2007.replace(mapping_dict, inplace=True)"
   ]
  },
  {
   "cell_type": "code",
   "execution_count": 69,
   "metadata": {
    "collapsed": false
   },
   "outputs": [
    {
     "data": {
      "text/html": [
       "<div>\n",
       "<table border=\"1\" class=\"dataframe\">\n",
       "  <thead>\n",
       "    <tr style=\"text-align: right;\">\n",
       "      <th></th>\n",
       "      <th>loan_amnt</th>\n",
       "      <th>term</th>\n",
       "      <th>int_rate</th>\n",
       "      <th>installment</th>\n",
       "      <th>emp_length</th>\n",
       "      <th>home_ownership</th>\n",
       "      <th>annual_inc</th>\n",
       "      <th>verification_status</th>\n",
       "      <th>loan_status</th>\n",
       "      <th>purpose</th>\n",
       "      <th>dti</th>\n",
       "      <th>delinq_2yrs</th>\n",
       "      <th>inq_last_6mths</th>\n",
       "      <th>open_acc</th>\n",
       "      <th>pub_rec</th>\n",
       "      <th>revol_bal</th>\n",
       "      <th>revol_util</th>\n",
       "      <th>total_acc</th>\n",
       "    </tr>\n",
       "  </thead>\n",
       "  <tbody>\n",
       "    <tr>\n",
       "      <th>0</th>\n",
       "      <td>5000.0</td>\n",
       "      <td>36 months</td>\n",
       "      <td>10.65</td>\n",
       "      <td>162.87</td>\n",
       "      <td>10</td>\n",
       "      <td>RENT</td>\n",
       "      <td>24000.0</td>\n",
       "      <td>Verified</td>\n",
       "      <td>1</td>\n",
       "      <td>credit_card</td>\n",
       "      <td>27.65</td>\n",
       "      <td>0.0</td>\n",
       "      <td>1.0</td>\n",
       "      <td>3.0</td>\n",
       "      <td>0.0</td>\n",
       "      <td>13648.0</td>\n",
       "      <td>83.7</td>\n",
       "      <td>9.0</td>\n",
       "    </tr>\n",
       "    <tr>\n",
       "      <th>1</th>\n",
       "      <td>2500.0</td>\n",
       "      <td>60 months</td>\n",
       "      <td>15.27</td>\n",
       "      <td>59.83</td>\n",
       "      <td>0</td>\n",
       "      <td>RENT</td>\n",
       "      <td>30000.0</td>\n",
       "      <td>Source Verified</td>\n",
       "      <td>0</td>\n",
       "      <td>car</td>\n",
       "      <td>1.00</td>\n",
       "      <td>0.0</td>\n",
       "      <td>5.0</td>\n",
       "      <td>3.0</td>\n",
       "      <td>0.0</td>\n",
       "      <td>1687.0</td>\n",
       "      <td>9.4</td>\n",
       "      <td>4.0</td>\n",
       "    </tr>\n",
       "    <tr>\n",
       "      <th>2</th>\n",
       "      <td>2400.0</td>\n",
       "      <td>36 months</td>\n",
       "      <td>15.96</td>\n",
       "      <td>84.33</td>\n",
       "      <td>10</td>\n",
       "      <td>RENT</td>\n",
       "      <td>12252.0</td>\n",
       "      <td>Not Verified</td>\n",
       "      <td>1</td>\n",
       "      <td>small_business</td>\n",
       "      <td>8.72</td>\n",
       "      <td>0.0</td>\n",
       "      <td>2.0</td>\n",
       "      <td>2.0</td>\n",
       "      <td>0.0</td>\n",
       "      <td>2956.0</td>\n",
       "      <td>98.5</td>\n",
       "      <td>10.0</td>\n",
       "    </tr>\n",
       "    <tr>\n",
       "      <th>3</th>\n",
       "      <td>10000.0</td>\n",
       "      <td>36 months</td>\n",
       "      <td>13.49</td>\n",
       "      <td>339.31</td>\n",
       "      <td>10</td>\n",
       "      <td>RENT</td>\n",
       "      <td>49200.0</td>\n",
       "      <td>Source Verified</td>\n",
       "      <td>1</td>\n",
       "      <td>other</td>\n",
       "      <td>20.00</td>\n",
       "      <td>0.0</td>\n",
       "      <td>1.0</td>\n",
       "      <td>10.0</td>\n",
       "      <td>0.0</td>\n",
       "      <td>5598.0</td>\n",
       "      <td>21.0</td>\n",
       "      <td>37.0</td>\n",
       "    </tr>\n",
       "    <tr>\n",
       "      <th>4</th>\n",
       "      <td>3000.0</td>\n",
       "      <td>60 months</td>\n",
       "      <td>12.69</td>\n",
       "      <td>67.79</td>\n",
       "      <td>1</td>\n",
       "      <td>RENT</td>\n",
       "      <td>80000.0</td>\n",
       "      <td>Source Verified</td>\n",
       "      <td>1</td>\n",
       "      <td>other</td>\n",
       "      <td>17.94</td>\n",
       "      <td>0.0</td>\n",
       "      <td>0.0</td>\n",
       "      <td>15.0</td>\n",
       "      <td>0.0</td>\n",
       "      <td>27783.0</td>\n",
       "      <td>53.9</td>\n",
       "      <td>38.0</td>\n",
       "    </tr>\n",
       "  </tbody>\n",
       "</table>\n",
       "</div>"
      ],
      "text/plain": [
       "   loan_amnt        term  int_rate  installment  emp_length home_ownership  \\\n",
       "0     5000.0   36 months     10.65       162.87          10           RENT   \n",
       "1     2500.0   60 months     15.27        59.83           0           RENT   \n",
       "2     2400.0   36 months     15.96        84.33          10           RENT   \n",
       "3    10000.0   36 months     13.49       339.31          10           RENT   \n",
       "4     3000.0   60 months     12.69        67.79           1           RENT   \n",
       "\n",
       "   annual_inc verification_status  loan_status         purpose    dti  \\\n",
       "0     24000.0            Verified            1     credit_card  27.65   \n",
       "1     30000.0     Source Verified            0             car   1.00   \n",
       "2     12252.0        Not Verified            1  small_business   8.72   \n",
       "3     49200.0     Source Verified            1           other  20.00   \n",
       "4     80000.0     Source Verified            1           other  17.94   \n",
       "\n",
       "   delinq_2yrs  inq_last_6mths  open_acc  pub_rec  revol_bal  revol_util  \\\n",
       "0          0.0             1.0       3.0      0.0    13648.0        83.7   \n",
       "1          0.0             5.0       3.0      0.0     1687.0         9.4   \n",
       "2          0.0             2.0       2.0      0.0     2956.0        98.5   \n",
       "3          0.0             1.0      10.0      0.0     5598.0        21.0   \n",
       "4          0.0             0.0      15.0      0.0    27783.0        53.9   \n",
       "\n",
       "   total_acc  \n",
       "0        9.0  \n",
       "1        4.0  \n",
       "2       10.0  \n",
       "3       37.0  \n",
       "4       38.0  "
      ]
     },
     "execution_count": 69,
     "metadata": {},
     "output_type": "execute_result"
    }
   ],
   "source": [
    "loans_2007.head()"
   ]
  },
  {
   "cell_type": "code",
   "execution_count": 78,
   "metadata": {
    "collapsed": false,
    "scrolled": true
   },
   "outputs": [
    {
     "data": {
      "text/html": [
       "<div>\n",
       "<table border=\"1\" class=\"dataframe\">\n",
       "  <thead>\n",
       "    <tr style=\"text-align: right;\">\n",
       "      <th></th>\n",
       "      <th>loan_amnt</th>\n",
       "      <th>int_rate</th>\n",
       "      <th>installment</th>\n",
       "      <th>emp_length</th>\n",
       "      <th>annual_inc</th>\n",
       "      <th>loan_status</th>\n",
       "      <th>dti</th>\n",
       "      <th>delinq_2yrs</th>\n",
       "      <th>inq_last_6mths</th>\n",
       "      <th>open_acc</th>\n",
       "      <th>...</th>\n",
       "      <th>purpose_major_purchase</th>\n",
       "      <th>purpose_medical</th>\n",
       "      <th>purpose_moving</th>\n",
       "      <th>purpose_other</th>\n",
       "      <th>purpose_renewable_energy</th>\n",
       "      <th>purpose_small_business</th>\n",
       "      <th>purpose_vacation</th>\n",
       "      <th>purpose_wedding</th>\n",
       "      <th>term_ 36 months</th>\n",
       "      <th>term_ 60 months</th>\n",
       "    </tr>\n",
       "  </thead>\n",
       "  <tbody>\n",
       "    <tr>\n",
       "      <th>0</th>\n",
       "      <td>5000.0</td>\n",
       "      <td>10.65</td>\n",
       "      <td>162.87</td>\n",
       "      <td>10</td>\n",
       "      <td>24000.0</td>\n",
       "      <td>1</td>\n",
       "      <td>27.65</td>\n",
       "      <td>0.0</td>\n",
       "      <td>1.0</td>\n",
       "      <td>3.0</td>\n",
       "      <td>...</td>\n",
       "      <td>0.0</td>\n",
       "      <td>0.0</td>\n",
       "      <td>0.0</td>\n",
       "      <td>0.0</td>\n",
       "      <td>0.0</td>\n",
       "      <td>0.0</td>\n",
       "      <td>0.0</td>\n",
       "      <td>0.0</td>\n",
       "      <td>1.0</td>\n",
       "      <td>0.0</td>\n",
       "    </tr>\n",
       "    <tr>\n",
       "      <th>1</th>\n",
       "      <td>2500.0</td>\n",
       "      <td>15.27</td>\n",
       "      <td>59.83</td>\n",
       "      <td>0</td>\n",
       "      <td>30000.0</td>\n",
       "      <td>0</td>\n",
       "      <td>1.00</td>\n",
       "      <td>0.0</td>\n",
       "      <td>5.0</td>\n",
       "      <td>3.0</td>\n",
       "      <td>...</td>\n",
       "      <td>0.0</td>\n",
       "      <td>0.0</td>\n",
       "      <td>0.0</td>\n",
       "      <td>0.0</td>\n",
       "      <td>0.0</td>\n",
       "      <td>0.0</td>\n",
       "      <td>0.0</td>\n",
       "      <td>0.0</td>\n",
       "      <td>0.0</td>\n",
       "      <td>1.0</td>\n",
       "    </tr>\n",
       "    <tr>\n",
       "      <th>2</th>\n",
       "      <td>2400.0</td>\n",
       "      <td>15.96</td>\n",
       "      <td>84.33</td>\n",
       "      <td>10</td>\n",
       "      <td>12252.0</td>\n",
       "      <td>1</td>\n",
       "      <td>8.72</td>\n",
       "      <td>0.0</td>\n",
       "      <td>2.0</td>\n",
       "      <td>2.0</td>\n",
       "      <td>...</td>\n",
       "      <td>0.0</td>\n",
       "      <td>0.0</td>\n",
       "      <td>0.0</td>\n",
       "      <td>0.0</td>\n",
       "      <td>0.0</td>\n",
       "      <td>1.0</td>\n",
       "      <td>0.0</td>\n",
       "      <td>0.0</td>\n",
       "      <td>1.0</td>\n",
       "      <td>0.0</td>\n",
       "    </tr>\n",
       "    <tr>\n",
       "      <th>3</th>\n",
       "      <td>10000.0</td>\n",
       "      <td>13.49</td>\n",
       "      <td>339.31</td>\n",
       "      <td>10</td>\n",
       "      <td>49200.0</td>\n",
       "      <td>1</td>\n",
       "      <td>20.00</td>\n",
       "      <td>0.0</td>\n",
       "      <td>1.0</td>\n",
       "      <td>10.0</td>\n",
       "      <td>...</td>\n",
       "      <td>0.0</td>\n",
       "      <td>0.0</td>\n",
       "      <td>0.0</td>\n",
       "      <td>1.0</td>\n",
       "      <td>0.0</td>\n",
       "      <td>0.0</td>\n",
       "      <td>0.0</td>\n",
       "      <td>0.0</td>\n",
       "      <td>1.0</td>\n",
       "      <td>0.0</td>\n",
       "    </tr>\n",
       "    <tr>\n",
       "      <th>4</th>\n",
       "      <td>3000.0</td>\n",
       "      <td>12.69</td>\n",
       "      <td>67.79</td>\n",
       "      <td>1</td>\n",
       "      <td>80000.0</td>\n",
       "      <td>1</td>\n",
       "      <td>17.94</td>\n",
       "      <td>0.0</td>\n",
       "      <td>0.0</td>\n",
       "      <td>15.0</td>\n",
       "      <td>...</td>\n",
       "      <td>0.0</td>\n",
       "      <td>0.0</td>\n",
       "      <td>0.0</td>\n",
       "      <td>1.0</td>\n",
       "      <td>0.0</td>\n",
       "      <td>0.0</td>\n",
       "      <td>0.0</td>\n",
       "      <td>0.0</td>\n",
       "      <td>0.0</td>\n",
       "      <td>1.0</td>\n",
       "    </tr>\n",
       "  </tbody>\n",
       "</table>\n",
       "<p>5 rows × 38 columns</p>\n",
       "</div>"
      ],
      "text/plain": [
       "   loan_amnt  int_rate  installment  emp_length  annual_inc  loan_status  \\\n",
       "0     5000.0     10.65       162.87          10     24000.0            1   \n",
       "1     2500.0     15.27        59.83           0     30000.0            0   \n",
       "2     2400.0     15.96        84.33          10     12252.0            1   \n",
       "3    10000.0     13.49       339.31          10     49200.0            1   \n",
       "4     3000.0     12.69        67.79           1     80000.0            1   \n",
       "\n",
       "     dti  delinq_2yrs  inq_last_6mths  open_acc       ...         \\\n",
       "0  27.65          0.0             1.0       3.0       ...          \n",
       "1   1.00          0.0             5.0       3.0       ...          \n",
       "2   8.72          0.0             2.0       2.0       ...          \n",
       "3  20.00          0.0             1.0      10.0       ...          \n",
       "4  17.94          0.0             0.0      15.0       ...          \n",
       "\n",
       "   purpose_major_purchase  purpose_medical  purpose_moving  purpose_other  \\\n",
       "0                     0.0              0.0             0.0            0.0   \n",
       "1                     0.0              0.0             0.0            0.0   \n",
       "2                     0.0              0.0             0.0            0.0   \n",
       "3                     0.0              0.0             0.0            1.0   \n",
       "4                     0.0              0.0             0.0            1.0   \n",
       "\n",
       "   purpose_renewable_energy  purpose_small_business  purpose_vacation  \\\n",
       "0                       0.0                     0.0               0.0   \n",
       "1                       0.0                     0.0               0.0   \n",
       "2                       0.0                     1.0               0.0   \n",
       "3                       0.0                     0.0               0.0   \n",
       "4                       0.0                     0.0               0.0   \n",
       "\n",
       "   purpose_wedding  term_ 36 months  term_ 60 months  \n",
       "0              0.0              1.0              0.0  \n",
       "1              0.0              0.0              1.0  \n",
       "2              0.0              1.0              0.0  \n",
       "3              0.0              1.0              0.0  \n",
       "4              0.0              0.0              1.0  \n",
       "\n",
       "[5 rows x 38 columns]"
      ]
     },
     "execution_count": 78,
     "metadata": {},
     "output_type": "execute_result"
    }
   ],
   "source": [
    "# Returns a new Dataframe containing 1 column for each dummy variable.\n",
    "dummies = ['home_ownership', 'verification_status', 'purpose', 'term']\n",
    "\n",
    "for d in dummies:\n",
    "    loans_2007[d] = loans_2007[d].astype('category')\n",
    "    \n",
    "dummy_df = pd.get_dummies(loans_2007[dummies])\n",
    "loans_2007 = pd.concat([loans_2007, dummy_df], axis=1)\n",
    "loans_2007.drop(dummies, axis=1, inplace=True)\n",
    "\n",
    "loans_2007.head()"
   ]
  },
  {
   "cell_type": "markdown",
   "metadata": {},
   "source": [
    "### Fit a logistic regression and make predictions"
   ]
  },
  {
   "cell_type": "code",
   "execution_count": 81,
   "metadata": {
    "collapsed": false
   },
   "outputs": [],
   "source": [
    "from sklearn.linear_model import LogisticRegression\n",
    "lr = LogisticRegression()\n",
    "\n",
    "features = loans_2007.drop('loan_status', axis=1)\n",
    "target = loans_2007.loan_status\n",
    "\n",
    "lr.fit(features, target)\n",
    "predictions = lr.predict(features)"
   ]
  },
  {
   "cell_type": "markdown",
   "metadata": {},
   "source": []
  },
  {
   "cell_type": "code",
   "execution_count": 87,
   "metadata": {
    "collapsed": false
   },
   "outputs": [
    {
     "name": "stdout",
     "output_type": "stream",
     "text": [
      "False positive rate: 0.9989363588016309\n",
      "True positive rate: 0.9991768337498163\n"
     ]
    }
   ],
   "source": [
    "from sklearn.linear_model import LogisticRegression\n",
    "from sklearn.cross_validation import cross_val_predict, KFold\n",
    "\n",
    "lr = LogisticRegression()\n",
    "kf = KFold(features.shape[0], random_state=1)\n",
    "predictions = cross_val_predict(lr, features, target, cv=kf)\n",
    "predictions = pd.Series(predictions)\n",
    "\n",
    "tn = len(predictions[(predictions == 0) & (target == 0)])\n",
    "tp = len(predictions[(predictions == 1) & (target == 1)])\n",
    "fn = len(predictions[(predictions == 0) & (target == 1)])\n",
    "fp = len(predictions[(predictions == 1) & (target == 0)])\n",
    "\n",
    "fpr = fp / (fp + tn)\n",
    "tpr = tp / (tp + fn)\n",
    "print(\"False positive rate:\", fpr)\n",
    "print(\"True positive rate:\", tpr)"
   ]
  },
  {
   "cell_type": "markdown",
   "metadata": {},
   "source": [
    "### Ways to account for target imbalance\n",
    "* Use oversampling and undersampling to ensure that the classifier gets input that has a balanced number of each class.\n",
    "* Tell the classifier to penalize misclassifications of the less prevalent class more than the other class."
   ]
  },
  {
   "cell_type": "code",
   "execution_count": 89,
   "metadata": {
    "collapsed": false
   },
   "outputs": [
    {
     "name": "stdout",
     "output_type": "stream",
     "text": [
      "False positive rate: 0.6041482006736394\n",
      "True positive rate: 0.6218139056298692\n"
     ]
    }
   ],
   "source": [
    "# This tells scikit-learn to penalize the misclassification of the minority class during the training process. \n",
    "# The penalty means that the logistic regression classifier pays more attention to correctly classifying rows \n",
    "# where loan_status is 0. \n",
    "# This lowers accuracy when loan_status is 1, but raises accuracy when loan_status is 0.\n",
    "lr = LogisticRegression(class_weight='balanced')\n",
    "\n",
    "kf = KFold(features.shape[0], random_state=1)\n",
    "predictions = cross_val_predict(lr, features, target, cv=kf)\n",
    "predictions = pd.Series(predictions)\n",
    "\n",
    "tn = len(predictions[(predictions == 0) & (target == 0)])\n",
    "tp = len(predictions[(predictions == 1) & (target == 1)])\n",
    "fn = len(predictions[(predictions == 0) & (target == 1)])\n",
    "fp = len(predictions[(predictions == 1) & (target == 0)])\n",
    "\n",
    "fpr = fp / (fp + tn)\n",
    "tpr = tp / (tp + fn)\n",
    "print(\"False positive rate:\", fpr)\n",
    "print(\"True positive rate:\", tpr)"
   ]
  },
  {
   "cell_type": "markdown",
   "metadata": {},
   "source": [
    "### Manually penalize false positives "
   ]
  },
  {
   "cell_type": "code",
   "execution_count": 94,
   "metadata": {
    "collapsed": false
   },
   "outputs": [
    {
     "name": "stdout",
     "output_type": "stream",
     "text": [
      "False positive rate: 0.1962418010990959\n",
      "True positive rate: 0.19870645303542556\n"
     ]
    }
   ],
   "source": [
    "penalty = {\n",
    "    0: 10,\n",
    "    1: 1\n",
    "}\n",
    "\n",
    "lr = LogisticRegression(class_weight=penalty)\n",
    "\n",
    "kf = KFold(features.shape[0], random_state=1)\n",
    "predictions = cross_val_predict(lr, features, target, cv=kf)\n",
    "predictions = pd.Series(predictions)\n",
    "\n",
    "tn = len(predictions[(predictions == 0) & (target == 0)])\n",
    "tp = len(predictions[(predictions == 1) & (target == 1)])\n",
    "fn = len(predictions[(predictions == 0) & (target == 1)])\n",
    "fp = len(predictions[(predictions == 1) & (target == 0)])\n",
    "\n",
    "fpr = fp / (fp + tn)\n",
    "tpr = tp / (tp + fn)\n",
    "print(\"False positive rate:\", fpr)\n",
    "print(\"True positive rate:\", tpr)"
   ]
  },
  {
   "cell_type": "markdown",
   "metadata": {},
   "source": [
    "### Random forests"
   ]
  },
  {
   "cell_type": "code",
   "execution_count": 101,
   "metadata": {
    "collapsed": false
   },
   "outputs": [
    {
     "name": "stdout",
     "output_type": "stream",
     "text": [
      "False positive rate: 0.9693316787803581\n",
      "True positive rate: 0.9709539908863737\n"
     ]
    }
   ],
   "source": [
    "from sklearn.ensemble import RandomForestClassifier\n",
    "\n",
    "clf = RandomForestClassifier(class_weight='balanced', random_state=1)\n",
    "\n",
    "kf = KFold(features.shape[0], random_state=1)\n",
    "predictions = cross_val_predict(clf, features, target, cv=kf)\n",
    "predictions = pd.Series(predictions)\n",
    "\n",
    "tn = len(predictions[(predictions == 0) & (target == 0)])\n",
    "tp = len(predictions[(predictions == 1) & (target == 1)])\n",
    "fn = len(predictions[(predictions == 0) & (target == 1)])\n",
    "fp = len(predictions[(predictions == 1) & (target == 0)])\n",
    "\n",
    "fpr = fp / (fp + tn)\n",
    "tpr = tp / (tp + fn)\n",
    "print(\"False positive rate:\", fpr)\n",
    "print(\"True positive rate:\", tpr)"
   ]
  },
  {
   "cell_type": "markdown",
   "metadata": {},
   "source": [
    "### Other things to try\n",
    "* We can tweak the penalties further.\n",
    "* We can try models other than a random forest and logistic regression.\n",
    "* We can use some of the columns we discarded to generate better features.\n",
    "* We can ensemble multiple models to get more accurate predictions.\n",
    "* We can tune the parameters of the algorithm to achieve higher performance."
   ]
  }
 ],
 "metadata": {
  "anaconda-cloud": {},
  "kernelspec": {
   "display_name": "Python [conda root]",
   "language": "python",
   "name": "conda-root-py"
  },
  "language_info": {
   "codemirror_mode": {
    "name": "ipython",
    "version": 3
   },
   "file_extension": ".py",
   "mimetype": "text/x-python",
   "name": "python",
   "nbconvert_exporter": "python",
   "pygments_lexer": "ipython3",
   "version": "3.5.2"
  }
 },
 "nbformat": 4,
 "nbformat_minor": 1
}
